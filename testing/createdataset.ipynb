{
 "cells": [
  {
   "cell_type": "code",
   "execution_count": 21,
   "metadata": {},
   "outputs": [
    {
     "name": "stdout",
     "output_type": "stream",
     "text": [
      "Dataset 'sales_data.csv' berhasil dibuat!\n"
     ]
    }
   ],
   "source": [
    "import pandas as pd\n",
    "import numpy as np\n",
    "\n",
    "\n",
    "howmanydays = 15\n",
    "# Generate 1000 days starting from 2020-01-01\n",
    "date_range = pd.date_range(start=\"2020-01-01\", periods=howmanydays, freq=\"D\")\n",
    "\n",
    "# Simulate sales data with an increasing trend + some random noise\n",
    "np.random.seed(42)\n",
    "sales = np.linspace(100, 2000, num=howmanydays) + np.random.normal(0, 50, howmanydays)\n",
    "\n",
    "# Create DataFrame\n",
    "df = pd.DataFrame({\"date\": date_range, \"sales\": sales.astype(int)})\n",
    "\n",
    "# Save to CSV\n",
    "df.to_csv(\"sales_data.csv\", index=False)\n",
    "\n",
    "print(\"Dataset 'sales_data.csv' berhasil dibuat!\")\n"
   ]
  },
  {
   "cell_type": "code",
   "execution_count": null,
   "metadata": {},
   "outputs": [],
   "source": []
  }
 ],
 "metadata": {
  "kernelspec": {
   "display_name": "arima",
   "language": "python",
   "name": "python3"
  },
  "language_info": {
   "codemirror_mode": {
    "name": "ipython",
    "version": 3
   },
   "file_extension": ".py",
   "mimetype": "text/x-python",
   "name": "python",
   "nbconvert_exporter": "python",
   "pygments_lexer": "ipython3",
   "version": "3.10.16"
  }
 },
 "nbformat": 4,
 "nbformat_minor": 2
}
