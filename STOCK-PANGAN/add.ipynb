{
 "cells": [
  {
   "cell_type": "code",
   "execution_count": 2,
   "metadata": {},
   "outputs": [],
   "source": [
    "import pandas as pd\n",
    "import ipywidgets as widgets\n",
    "import matplotlib.pyplot as plt\n",
    "from prophet import Prophet\n",
    "from IPython.display import display"
   ]
  },
  {
   "cell_type": "code",
   "execution_count": 3,
   "metadata": {},
   "outputs": [],
   "source": [
    "file = \"overview-stock-pangan.csv\"\n",
    "df = pd.read_csv(file)"
   ]
  },
  {
   "cell_type": "markdown",
   "metadata": {},
   "source": [
    "#### Menambahkan data baru"
   ]
  },
  {
   "cell_type": "code",
   "execution_count": 4,
   "metadata": {},
   "outputs": [],
   "source": [
    "bulan_dict = {\n",
    "    \"Januari\": 1, \"Februari\": 2, \"Maret\": 3, \"April\": 4, \"Mei\": 5, \"Juni\": 6, \n",
    "    \"Juli\": 7, \"Agustus\": 8, \"September\": 9, \"Oktober\": 10, \"November\": 11, \"Desember\": 12\n",
    "}\n",
    "\n",
    "kota_dropdown = widgets.Dropdown(\n",
    "    options=sorted(df[\"kota\"].unique().tolist()) if not df.empty else [],\n",
    "    description=\"Kota:\",\n",
    "    style={'description_width': 'initial'}\n",
    ")\n",
    "\n",
    "bahanpokok_dropdown = widgets.Dropdown(\n",
    "    options=sorted(df[\"bahanpokok\"].unique().tolist()) if not df.empty else [],\n",
    "    description=\"Bahan Pokok:\",\n",
    "    style={'description_width': 'initial'}\n",
    ")\n",
    "\n",
    "tahun_input = widgets.IntText(description=\"Tahun:\")\n",
    "\n",
    "bulan_dropdown = widgets.Dropdown(\n",
    "    options=bulan_dict.keys(),\n",
    "    description=\"Bulan:\",\n",
    "    style={'description_width': 'initial'}\n",
    ")\n",
    "\n",
    "stok_input = widgets.IntText(description=\"Stok:\")\n"
   ]
  },
  {
   "cell_type": "code",
   "execution_count": null,
   "metadata": {},
   "outputs": [
    {
     "name": "stdout",
     "output_type": "stream",
     "text": [
      "✅ Data berhasil ditambahkan!\n"
     ]
    },
    {
     "data": {
      "text/html": [
       "<div>\n",
       "<style scoped>\n",
       "    .dataframe tbody tr th:only-of-type {\n",
       "        vertical-align: middle;\n",
       "    }\n",
       "\n",
       "    .dataframe tbody tr th {\n",
       "        vertical-align: top;\n",
       "    }\n",
       "\n",
       "    .dataframe thead th {\n",
       "        text-align: right;\n",
       "    }\n",
       "</style>\n",
       "<table border=\"1\" class=\"dataframe\">\n",
       "  <thead>\n",
       "    <tr style=\"text-align: right;\">\n",
       "      <th></th>\n",
       "      <th>kota</th>\n",
       "      <th>bahanpokok</th>\n",
       "      <th>tahun</th>\n",
       "      <th>bulan</th>\n",
       "      <th>stok</th>\n",
       "      <th>Unnamed: 5</th>\n",
       "      <th>Unnamed: 6</th>\n",
       "      <th>Unnamed: 7</th>\n",
       "      <th>Unnamed: 8</th>\n",
       "      <th>Unnamed: 9</th>\n",
       "      <th>Unnamed: 10</th>\n",
       "      <th>Unnamed: 11</th>\n",
       "      <th>Unnamed: 12</th>\n",
       "      <th>Unnamed: 13</th>\n",
       "      <th>Unnamed: 14</th>\n",
       "      <th>Unnamed: 15</th>\n",
       "    </tr>\n",
       "  </thead>\n",
       "  <tbody>\n",
       "    <tr>\n",
       "      <th>1256</th>\n",
       "      <td>kota_tegal</td>\n",
       "      <td>dagingayamras</td>\n",
       "      <td>2024</td>\n",
       "      <td>12</td>\n",
       "      <td>1.317460e+00</td>\n",
       "      <td>NaN</td>\n",
       "      <td>NaN</td>\n",
       "      <td>NaN</td>\n",
       "      <td>NaN</td>\n",
       "      <td>NaN</td>\n",
       "      <td>NaN</td>\n",
       "      <td>NaN</td>\n",
       "      <td>NaN</td>\n",
       "      <td>NaN</td>\n",
       "      <td>NaN</td>\n",
       "      <td>NaN</td>\n",
       "    </tr>\n",
       "    <tr>\n",
       "      <th>1257</th>\n",
       "      <td>kota_tegal</td>\n",
       "      <td>telur</td>\n",
       "      <td>2024</td>\n",
       "      <td>12</td>\n",
       "      <td>6.288660e+02</td>\n",
       "      <td>NaN</td>\n",
       "      <td>NaN</td>\n",
       "      <td>NaN</td>\n",
       "      <td>NaN</td>\n",
       "      <td>NaN</td>\n",
       "      <td>NaN</td>\n",
       "      <td>NaN</td>\n",
       "      <td>NaN</td>\n",
       "      <td>NaN</td>\n",
       "      <td>NaN</td>\n",
       "      <td>NaN</td>\n",
       "    </tr>\n",
       "    <tr>\n",
       "      <th>1258</th>\n",
       "      <td>kota_tegal</td>\n",
       "      <td>gulapasir</td>\n",
       "      <td>2024</td>\n",
       "      <td>12</td>\n",
       "      <td>1.354513e+06</td>\n",
       "      <td>NaN</td>\n",
       "      <td>NaN</td>\n",
       "      <td>NaN</td>\n",
       "      <td>NaN</td>\n",
       "      <td>NaN</td>\n",
       "      <td>NaN</td>\n",
       "      <td>NaN</td>\n",
       "      <td>NaN</td>\n",
       "      <td>NaN</td>\n",
       "      <td>NaN</td>\n",
       "      <td>NaN</td>\n",
       "    </tr>\n",
       "    <tr>\n",
       "      <th>1259</th>\n",
       "      <td>kota_tegal</td>\n",
       "      <td>minyakgoreng</td>\n",
       "      <td>2024</td>\n",
       "      <td>12</td>\n",
       "      <td>2.902711e+05</td>\n",
       "      <td>NaN</td>\n",
       "      <td>NaN</td>\n",
       "      <td>NaN</td>\n",
       "      <td>NaN</td>\n",
       "      <td>NaN</td>\n",
       "      <td>NaN</td>\n",
       "      <td>NaN</td>\n",
       "      <td>NaN</td>\n",
       "      <td>NaN</td>\n",
       "      <td>NaN</td>\n",
       "      <td>NaN</td>\n",
       "    </tr>\n",
       "    <tr>\n",
       "      <th>1260</th>\n",
       "      <td>kab_banjarnegara</td>\n",
       "      <td>bawangputih</td>\n",
       "      <td>2025</td>\n",
       "      <td>2</td>\n",
       "      <td>5.521000e+03</td>\n",
       "      <td>NaN</td>\n",
       "      <td>NaN</td>\n",
       "      <td>NaN</td>\n",
       "      <td>NaN</td>\n",
       "      <td>NaN</td>\n",
       "      <td>NaN</td>\n",
       "      <td>NaN</td>\n",
       "      <td>NaN</td>\n",
       "      <td>NaN</td>\n",
       "      <td>NaN</td>\n",
       "      <td>NaN</td>\n",
       "    </tr>\n",
       "  </tbody>\n",
       "</table>\n",
       "</div>"
      ],
      "text/plain": [
       "                  kota     bahanpokok  tahun  bulan          stok  Unnamed: 5  \\\n",
       "1256        kota_tegal  dagingayamras   2024     12  1.317460e+00         NaN   \n",
       "1257        kota_tegal          telur   2024     12  6.288660e+02         NaN   \n",
       "1258        kota_tegal      gulapasir   2024     12  1.354513e+06         NaN   \n",
       "1259        kota_tegal   minyakgoreng   2024     12  2.902711e+05         NaN   \n",
       "1260  kab_banjarnegara    bawangputih   2025      2  5.521000e+03         NaN   \n",
       "\n",
       "      Unnamed: 6  Unnamed: 7  Unnamed: 8  Unnamed: 9  Unnamed: 10  \\\n",
       "1256         NaN         NaN         NaN         NaN          NaN   \n",
       "1257         NaN         NaN         NaN         NaN          NaN   \n",
       "1258         NaN         NaN         NaN         NaN          NaN   \n",
       "1259         NaN         NaN         NaN         NaN          NaN   \n",
       "1260         NaN         NaN         NaN         NaN          NaN   \n",
       "\n",
       "      Unnamed: 11  Unnamed: 12  Unnamed: 13  Unnamed: 14  Unnamed: 15  \n",
       "1256          NaN          NaN          NaN          NaN          NaN  \n",
       "1257          NaN          NaN          NaN          NaN          NaN  \n",
       "1258          NaN          NaN          NaN          NaN          NaN  \n",
       "1259          NaN          NaN          NaN          NaN          NaN  \n",
       "1260          NaN          NaN          NaN          NaN          NaN  "
      ]
     },
     "metadata": {},
     "output_type": "display_data"
    }
   ],
   "source": [
    "add_button = widgets.Button(description=\"Tambah Data\")"
   ]
  },
  {
   "cell_type": "code",
   "execution_count": 6,
   "metadata": {},
   "outputs": [],
   "source": [
    "def add_data(b):\n",
    "    new_data = {\n",
    "        \"kota\": kota_dropdown.value,\n",
    "        \"bahanpokok\": bahanpokok_dropdown.value,\n",
    "        \"tahun\": tahun_input.value,\n",
    "        \"bulan\": bulan_dict[bulan_dropdown.value],\n",
    "        \"stok\": stok_input.value\n",
    "    }\n",
    "    \n",
    "    global df\n",
    "    df = pd.concat([df, pd.DataFrame([new_data])], ignore_index=True)\n",
    "    \n",
    "    df.to_csv(file, index=False)\n",
    "    \n",
    "    print(\"✅ Data berhasil ditambahkan!\")\n",
    "    display(df.tail())\n",
    "\n",
    "add_button.on_click(add_data)"
   ]
  },
  {
   "cell_type": "code",
   "execution_count": 8,
   "metadata": {},
   "outputs": [
    {
     "data": {
      "application/vnd.jupyter.widget-view+json": {
       "model_id": "9c28427ef41e401b81b6e2f4bd3037a5",
       "version_major": 2,
       "version_minor": 0
      },
      "text/plain": [
       "Dropdown(description='Kota:', options=('kab_banjarnegara', 'kab_banyumas', 'kab_batang', 'kab_blora', 'kab_boy…"
      ]
     },
     "metadata": {},
     "output_type": "display_data"
    },
    {
     "data": {
      "application/vnd.jupyter.widget-view+json": {
       "model_id": "6cabe490e4d34e1fa6b0d4da3056fccd",
       "version_major": 2,
       "version_minor": 0
      },
      "text/plain": [
       "Dropdown(description='Bahan Pokok:', options=('bawangmerah', 'bawangputih', 'beras', 'cabaibesar', 'cabairawit…"
      ]
     },
     "metadata": {},
     "output_type": "display_data"
    },
    {
     "data": {
      "application/vnd.jupyter.widget-view+json": {
       "model_id": "05a11fff4431472181c540db4261a21a",
       "version_major": 2,
       "version_minor": 0
      },
      "text/plain": [
       "IntText(value=0, description='Tahun:')"
      ]
     },
     "metadata": {},
     "output_type": "display_data"
    },
    {
     "data": {
      "application/vnd.jupyter.widget-view+json": {
       "model_id": "f659243b6f6d4f5c89355248a4392b21",
       "version_major": 2,
       "version_minor": 0
      },
      "text/plain": [
       "Dropdown(description='Bulan:', options=('Januari', 'Februari', 'Maret', 'April', 'Mei', 'Juni', 'Juli', 'Agust…"
      ]
     },
     "metadata": {},
     "output_type": "display_data"
    },
    {
     "data": {
      "application/vnd.jupyter.widget-view+json": {
       "model_id": "16bafee46257478aa7dd685bda08f9dd",
       "version_major": 2,
       "version_minor": 0
      },
      "text/plain": [
       "IntText(value=0, description='Stok:')"
      ]
     },
     "metadata": {},
     "output_type": "display_data"
    },
    {
     "data": {
      "application/vnd.jupyter.widget-view+json": {
       "model_id": "0dfd7eb343354e00aab27d3c5fc41ffa",
       "version_major": 2,
       "version_minor": 0
      },
      "text/plain": [
       "Button(description='Tambah Data', style=ButtonStyle())"
      ]
     },
     "metadata": {},
     "output_type": "display_data"
    }
   ],
   "source": [
    "display(kota_dropdown, bahanpokok_dropdown, tahun_input, bulan_dropdown, stok_input, add_button)"
   ]
  }
 ],
 "metadata": {
  "kernelspec": {
   "display_name": "Python 3",
   "language": "python",
   "name": "python3"
  },
  "language_info": {
   "codemirror_mode": {
    "name": "ipython",
    "version": 3
   },
   "file_extension": ".py",
   "mimetype": "text/x-python",
   "name": "python",
   "nbconvert_exporter": "python",
   "pygments_lexer": "ipython3",
   "version": "3.10.16"
  }
 },
 "nbformat": 4,
 "nbformat_minor": 2
}
