{
 "cells": [
  {
   "cell_type": "code",
   "execution_count": 13,
   "metadata": {},
   "outputs": [],
   "source": [
    "import pandas as pd\n",
    "import ipywidgets as widgets\n",
    "from IPython.display import display"
   ]
  },
  {
   "cell_type": "code",
   "execution_count": 14,
   "metadata": {},
   "outputs": [],
   "source": [
    "file = \"overview-stock-pangan.csv\"\n",
    "df = pd.read_csv(file)"
   ]
  },
  {
   "cell_type": "markdown",
   "metadata": {},
   "source": [
    "#### Print 5 Data Teratas"
   ]
  },
  {
   "cell_type": "code",
   "execution_count": 15,
   "metadata": {},
   "outputs": [
    {
     "data": {
      "text/html": [
       "<div>\n",
       "<style scoped>\n",
       "    .dataframe tbody tr th:only-of-type {\n",
       "        vertical-align: middle;\n",
       "    }\n",
       "\n",
       "    .dataframe tbody tr th {\n",
       "        vertical-align: top;\n",
       "    }\n",
       "\n",
       "    .dataframe thead th {\n",
       "        text-align: right;\n",
       "    }\n",
       "</style>\n",
       "<table border=\"1\" class=\"dataframe\">\n",
       "  <thead>\n",
       "    <tr style=\"text-align: right;\">\n",
       "      <th></th>\n",
       "      <th>kota</th>\n",
       "      <th>bahanpokok</th>\n",
       "      <th>tahun</th>\n",
       "      <th>bulan</th>\n",
       "      <th>stok</th>\n",
       "    </tr>\n",
       "  </thead>\n",
       "  <tbody>\n",
       "    <tr>\n",
       "      <th>0</th>\n",
       "      <td>kab_banjarnegara</td>\n",
       "      <td>beras</td>\n",
       "      <td>2024</td>\n",
       "      <td>11</td>\n",
       "      <td>42500.0</td>\n",
       "    </tr>\n",
       "    <tr>\n",
       "      <th>1</th>\n",
       "      <td>kab_banjarnegara</td>\n",
       "      <td>jagung</td>\n",
       "      <td>2024</td>\n",
       "      <td>11</td>\n",
       "      <td>1515.0</td>\n",
       "    </tr>\n",
       "    <tr>\n",
       "      <th>2</th>\n",
       "      <td>kab_banjarnegara</td>\n",
       "      <td>kedelai</td>\n",
       "      <td>2024</td>\n",
       "      <td>11</td>\n",
       "      <td>21000.0</td>\n",
       "    </tr>\n",
       "    <tr>\n",
       "      <th>3</th>\n",
       "      <td>kab_banjarnegara</td>\n",
       "      <td>bawangmerah</td>\n",
       "      <td>2024</td>\n",
       "      <td>11</td>\n",
       "      <td>500.0</td>\n",
       "    </tr>\n",
       "    <tr>\n",
       "      <th>4</th>\n",
       "      <td>kab_banjarnegara</td>\n",
       "      <td>bawangputih</td>\n",
       "      <td>2024</td>\n",
       "      <td>11</td>\n",
       "      <td>200.0</td>\n",
       "    </tr>\n",
       "  </tbody>\n",
       "</table>\n",
       "</div>"
      ],
      "text/plain": [
       "               kota   bahanpokok  tahun  bulan     stok\n",
       "0  kab_banjarnegara        beras   2024     11  42500.0\n",
       "1  kab_banjarnegara       jagung   2024     11   1515.0\n",
       "2  kab_banjarnegara      kedelai   2024     11  21000.0\n",
       "3  kab_banjarnegara  bawangmerah   2024     11    500.0\n",
       "4  kab_banjarnegara  bawangputih   2024     11    200.0"
      ]
     },
     "execution_count": 15,
     "metadata": {},
     "output_type": "execute_result"
    }
   ],
   "source": [
    "df.head()"
   ]
  },
  {
   "cell_type": "markdown",
   "metadata": {},
   "source": [
    "#### Bahan Pokok yang tersedia"
   ]
  },
  {
   "cell_type": "code",
   "execution_count": 16,
   "metadata": {},
   "outputs": [
    {
     "name": "stdout",
     "output_type": "stream",
     "text": [
      "Bahan Pokok yang tersedia adalah : ['beras' 'jagung' 'kedelai' 'bawangmerah' 'bawangputih' 'cabaibesar'\n",
      " 'cabairawit' 'dagingsapi' 'dagingayamras' 'telur' 'gulapasir'\n",
      " 'minyakgoreng']\n"
     ]
    }
   ],
   "source": [
    "print(\"Bahan Pokok yang tersedia adalah :\", df[\"bahanpokok\"].unique())"
   ]
  },
  {
   "cell_type": "markdown",
   "metadata": {},
   "source": [
    "#### Mencari values kota dan menampilkannya berdasarkan input"
   ]
  },
  {
   "cell_type": "code",
   "execution_count": 9,
   "metadata": {},
   "outputs": [],
   "source": [
    "kota_input = input(\"Masukkan Kota yang ingin dicari : \")"
   ]
  },
  {
   "cell_type": "code",
   "execution_count": 11,
   "metadata": {},
   "outputs": [
    {
     "data": {
      "text/html": [
       "<div>\n",
       "<style scoped>\n",
       "    .dataframe tbody tr th:only-of-type {\n",
       "        vertical-align: middle;\n",
       "    }\n",
       "\n",
       "    .dataframe tbody tr th {\n",
       "        vertical-align: top;\n",
       "    }\n",
       "\n",
       "    .dataframe thead th {\n",
       "        text-align: right;\n",
       "    }\n",
       "</style>\n",
       "<table border=\"1\" class=\"dataframe\">\n",
       "  <thead>\n",
       "    <tr style=\"text-align: right;\">\n",
       "      <th></th>\n",
       "      <th>kota</th>\n",
       "      <th>bahanpokok</th>\n",
       "      <th>tahun</th>\n",
       "      <th>bulan</th>\n",
       "      <th>stok</th>\n",
       "    </tr>\n",
       "  </thead>\n",
       "  <tbody>\n",
       "    <tr>\n",
       "      <th>396</th>\n",
       "      <td>kota_semarang</td>\n",
       "      <td>beras</td>\n",
       "      <td>2024</td>\n",
       "      <td>11</td>\n",
       "      <td>20641.537903</td>\n",
       "    </tr>\n",
       "    <tr>\n",
       "      <th>397</th>\n",
       "      <td>kota_semarang</td>\n",
       "      <td>jagung</td>\n",
       "      <td>2024</td>\n",
       "      <td>11</td>\n",
       "      <td>NaN</td>\n",
       "    </tr>\n",
       "    <tr>\n",
       "      <th>398</th>\n",
       "      <td>kota_semarang</td>\n",
       "      <td>kedelai</td>\n",
       "      <td>2024</td>\n",
       "      <td>11</td>\n",
       "      <td>0.000000</td>\n",
       "    </tr>\n",
       "    <tr>\n",
       "      <th>399</th>\n",
       "      <td>kota_semarang</td>\n",
       "      <td>bawangmerah</td>\n",
       "      <td>2024</td>\n",
       "      <td>11</td>\n",
       "      <td>0.000000</td>\n",
       "    </tr>\n",
       "    <tr>\n",
       "      <th>400</th>\n",
       "      <td>kota_semarang</td>\n",
       "      <td>bawangputih</td>\n",
       "      <td>2024</td>\n",
       "      <td>11</td>\n",
       "      <td>0.000000</td>\n",
       "    </tr>\n",
       "    <tr>\n",
       "      <th>401</th>\n",
       "      <td>kota_semarang</td>\n",
       "      <td>cabaibesar</td>\n",
       "      <td>2024</td>\n",
       "      <td>11</td>\n",
       "      <td>0.000000</td>\n",
       "    </tr>\n",
       "    <tr>\n",
       "      <th>402</th>\n",
       "      <td>kota_semarang</td>\n",
       "      <td>cabairawit</td>\n",
       "      <td>2024</td>\n",
       "      <td>11</td>\n",
       "      <td>0.000000</td>\n",
       "    </tr>\n",
       "    <tr>\n",
       "      <th>403</th>\n",
       "      <td>kota_semarang</td>\n",
       "      <td>dagingsapi</td>\n",
       "      <td>2024</td>\n",
       "      <td>11</td>\n",
       "      <td>0.000000</td>\n",
       "    </tr>\n",
       "    <tr>\n",
       "      <th>404</th>\n",
       "      <td>kota_semarang</td>\n",
       "      <td>dagingayamras</td>\n",
       "      <td>2024</td>\n",
       "      <td>11</td>\n",
       "      <td>0.000000</td>\n",
       "    </tr>\n",
       "    <tr>\n",
       "      <th>405</th>\n",
       "      <td>kota_semarang</td>\n",
       "      <td>telur</td>\n",
       "      <td>2024</td>\n",
       "      <td>11</td>\n",
       "      <td>2383.573009</td>\n",
       "    </tr>\n",
       "    <tr>\n",
       "      <th>406</th>\n",
       "      <td>kota_semarang</td>\n",
       "      <td>gulapasir</td>\n",
       "      <td>2024</td>\n",
       "      <td>11</td>\n",
       "      <td>4712.359347</td>\n",
       "    </tr>\n",
       "    <tr>\n",
       "      <th>407</th>\n",
       "      <td>kota_semarang</td>\n",
       "      <td>minyakgoreng</td>\n",
       "      <td>2024</td>\n",
       "      <td>11</td>\n",
       "      <td>8949.633911</td>\n",
       "    </tr>\n",
       "  </tbody>\n",
       "</table>\n",
       "</div>"
      ],
      "text/plain": [
       "              kota     bahanpokok  tahun  bulan          stok\n",
       "396  kota_semarang          beras   2024     11  20641.537903\n",
       "397  kota_semarang         jagung   2024     11           NaN\n",
       "398  kota_semarang        kedelai   2024     11      0.000000\n",
       "399  kota_semarang    bawangmerah   2024     11      0.000000\n",
       "400  kota_semarang    bawangputih   2024     11      0.000000\n",
       "401  kota_semarang     cabaibesar   2024     11      0.000000\n",
       "402  kota_semarang     cabairawit   2024     11      0.000000\n",
       "403  kota_semarang     dagingsapi   2024     11      0.000000\n",
       "404  kota_semarang  dagingayamras   2024     11      0.000000\n",
       "405  kota_semarang          telur   2024     11   2383.573009\n",
       "406  kota_semarang      gulapasir   2024     11   4712.359347\n",
       "407  kota_semarang   minyakgoreng   2024     11   8949.633911"
      ]
     },
     "metadata": {},
     "output_type": "display_data"
    }
   ],
   "source": [
    "filter_kota = df[df[\"kota\"] == kota_input]\n",
    "\n",
    "if filter_kota.empty:\n",
    "    print(\"No data found for the given bahanpokok.\")\n",
    "else:\n",
    "    display(filter_kota)"
   ]
  },
  {
   "cell_type": "markdown",
   "metadata": {},
   "source": [
    "#### Mencari values berdasarkan input pada dropdown"
   ]
  },
  {
   "cell_type": "code",
   "execution_count": 24,
   "metadata": {},
   "outputs": [],
   "source": [
    "kota_dropdown = widgets.Dropdown(\n",
    "    options=[\"All\"] + sorted(df[\"kota\"].unique().tolist()),\n",
    "    description=\"Kota:\",\n",
    "    style={'description_width': 'initial'}\n",
    ")\n",
    "\n",
    "bahanpokok_dropdown = widgets.Dropdown(\n",
    "    options=[\"All\"] + sorted(df[\"bahanpokok\"].unique().tolist()),\n",
    "    description=\"Bahan Pokok:\",\n",
    "    style={'description_width': 'initial'}\n",
    ")\n",
    "\n",
    "tahun_dropdown = widgets.Dropdown(\n",
    "    options=[\"All\"] + sorted(df[\"tahun\"].unique().tolist()),\n",
    "    description=\"Tahun:\",\n",
    "    style={'description_width': 'initial'}\n",
    ")\n",
    "\n",
    "bulan_dropdown = widgets.Dropdown(\n",
    "    options=[\"All\"] + sorted(df[\"bulan\"].unique().tolist()),\n",
    "    description=\"Bulan:\",\n",
    "    style={'description_width': 'initial'}\n",
    ")\n",
    "\n",
    "stok_dropdown = widgets.Dropdown(\n",
    "    options=[\"All\"] + sorted(df[\"stok\"].unique().tolist()),\n",
    "    description=\"Stok:\",\n",
    "    style={'description_width': 'initial'}\n",
    ")"
   ]
  },
  {
   "cell_type": "code",
   "execution_count": 26,
   "metadata": {},
   "outputs": [
    {
     "data": {
      "application/vnd.jupyter.widget-view+json": {
       "model_id": "b044014b69ca4956bf5be5f2bf7833cb",
       "version_major": 2,
       "version_minor": 0
      },
      "text/plain": [
       "interactive(children=(Dropdown(description='Kota:', index=6, options=('All', 'kab_banjarnegara', 'kab_banyumas…"
      ]
     },
     "execution_count": 26,
     "metadata": {},
     "output_type": "execute_result"
    }
   ],
   "source": [
    "# Fungsi untuk menampilkan data berdasarkan filter yang dipilih\n",
    "def update_table(kota, bahanpokok, tahun, bulan):\n",
    "    filtered_df = df.copy()\n",
    "    \n",
    "    # Terapkan filter jika tidak memilih \"All\"\n",
    "    if kota != \"All\":\n",
    "        filtered_df = filtered_df[filtered_df[\"kota\"] == kota]\n",
    "    if bahanpokok != \"All\":\n",
    "        filtered_df = filtered_df[filtered_df[\"bahanpokok\"] == bahanpokok]\n",
    "    if tahun != \"All\":\n",
    "        filtered_df = filtered_df[filtered_df[\"tahun\"] == tahun]\n",
    "    if bulan != \"All\":\n",
    "        filtered_df = filtered_df[filtered_df[\"bulan\"] == bulan]\n",
    "\n",
    "    # Tampilkan seluruh kolom\n",
    "    if filtered_df.empty:\n",
    "        print(\"Tidak ada data yang sesuai dengan filter yang dipilih.\")\n",
    "    else:\n",
    "        display(filtered_df)\n",
    "\n",
    "# Interaktif dengan widget\n",
    "widgets.interactive(\n",
    "    update_table,\n",
    "    kota=kota_dropdown,\n",
    "    bahanpokok=bahanpokok_dropdown,\n",
    "    tahun=tahun_dropdown,\n",
    "    bulan=bulan_dropdown\n",
    ")"
   ]
  }
 ],
 "metadata": {
  "kernelspec": {
   "display_name": "Python 3",
   "language": "python",
   "name": "python3"
  },
  "language_info": {
   "codemirror_mode": {
    "name": "ipython",
    "version": 3
   },
   "file_extension": ".py",
   "mimetype": "text/x-python",
   "name": "python",
   "nbconvert_exporter": "python",
   "pygments_lexer": "ipython3",
   "version": "3.10.16"
  }
 },
 "nbformat": 4,
 "nbformat_minor": 2
}
