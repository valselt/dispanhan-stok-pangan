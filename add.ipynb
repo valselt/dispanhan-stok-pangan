{
 "cells": [
  {
   "cell_type": "code",
   "execution_count": 1,
   "metadata": {},
   "outputs": [],
   "source": [
    "import pandas as pd\n",
    "import ipywidgets as widgets\n",
    "from IPython.display import display"
   ]
  },
  {
   "cell_type": "code",
   "execution_count": 3,
   "metadata": {},
   "outputs": [],
   "source": [
    "file = \"overview-stock-pangan.csv\"\n",
    "df = pd.read_csv(file)"
   ]
  },
  {
   "cell_type": "markdown",
   "metadata": {},
   "source": [
    "#### Menambahkan data baru"
   ]
  },
  {
   "cell_type": "code",
   "execution_count": 4,
   "metadata": {},
   "outputs": [],
   "source": [
    "kota_dropdown = widgets.Dropdown(\n",
    "    options=sorted(df[\"kota\"].unique().tolist()) if not df.empty else [],\n",
    "    description=\"Kota:\",\n",
    "    style={'description_width': 'initial'}\n",
    ")\n",
    "\n",
    "bahanpokok_dropdown = widgets.Dropdown(\n",
    "    options=sorted(df[\"bahanpokok\"].unique().tolist()) if not df.empty else [],\n",
    "    description=\"Bahan Pokok:\",\n",
    "    style={'description_width': 'initial'}\n",
    ")\n",
    "\n",
    "tahun_input = widgets.IntText(description=\"Tahun:\")\n",
    "bulan_input = widgets.Text(description=\"Bulan:\")\n",
    "stok_input = widgets.IntText(description=\"Stok:\")\n"
   ]
  },
  {
   "cell_type": "code",
   "execution_count": 5,
   "metadata": {},
   "outputs": [
    {
     "name": "stdout",
     "output_type": "stream",
     "text": [
      "✅ Data berhasil ditambahkan!\n"
     ]
    },
    {
     "data": {
      "text/html": [
       "<div>\n",
       "<style scoped>\n",
       "    .dataframe tbody tr th:only-of-type {\n",
       "        vertical-align: middle;\n",
       "    }\n",
       "\n",
       "    .dataframe tbody tr th {\n",
       "        vertical-align: top;\n",
       "    }\n",
       "\n",
       "    .dataframe thead th {\n",
       "        text-align: right;\n",
       "    }\n",
       "</style>\n",
       "<table border=\"1\" class=\"dataframe\">\n",
       "  <thead>\n",
       "    <tr style=\"text-align: right;\">\n",
       "      <th></th>\n",
       "      <th>kota</th>\n",
       "      <th>bahanpokok</th>\n",
       "      <th>tahun</th>\n",
       "      <th>bulan</th>\n",
       "      <th>stok</th>\n",
       "    </tr>\n",
       "  </thead>\n",
       "  <tbody>\n",
       "    <tr>\n",
       "      <th>416</th>\n",
       "      <td>kota_tegal</td>\n",
       "      <td>dagingayamras</td>\n",
       "      <td>2024</td>\n",
       "      <td>11</td>\n",
       "      <td>2.634921</td>\n",
       "    </tr>\n",
       "    <tr>\n",
       "      <th>417</th>\n",
       "      <td>kota_tegal</td>\n",
       "      <td>telur</td>\n",
       "      <td>2024</td>\n",
       "      <td>11</td>\n",
       "      <td>1314.432990</td>\n",
       "    </tr>\n",
       "    <tr>\n",
       "      <th>418</th>\n",
       "      <td>kota_tegal</td>\n",
       "      <td>gulapasir</td>\n",
       "      <td>2024</td>\n",
       "      <td>11</td>\n",
       "      <td>123492.775678</td>\n",
       "    </tr>\n",
       "    <tr>\n",
       "      <th>419</th>\n",
       "      <td>kota_tegal</td>\n",
       "      <td>minyakgoreng</td>\n",
       "      <td>2024</td>\n",
       "      <td>11</td>\n",
       "      <td>18424.418160</td>\n",
       "    </tr>\n",
       "    <tr>\n",
       "      <th>420</th>\n",
       "      <td>kab_pati</td>\n",
       "      <td>gulapasir</td>\n",
       "      <td>2025</td>\n",
       "      <td>12</td>\n",
       "      <td>998.000000</td>\n",
       "    </tr>\n",
       "  </tbody>\n",
       "</table>\n",
       "</div>"
      ],
      "text/plain": [
       "           kota     bahanpokok  tahun bulan           stok\n",
       "416  kota_tegal  dagingayamras   2024    11       2.634921\n",
       "417  kota_tegal          telur   2024    11    1314.432990\n",
       "418  kota_tegal      gulapasir   2024    11  123492.775678\n",
       "419  kota_tegal   minyakgoreng   2024    11   18424.418160\n",
       "420    kab_pati      gulapasir   2025    12     998.000000"
      ]
     },
     "metadata": {},
     "output_type": "display_data"
    }
   ],
   "source": [
    "add_button = widgets.Button(description=\"Tambah Data\")"
   ]
  },
  {
   "cell_type": "code",
   "execution_count": 6,
   "metadata": {},
   "outputs": [],
   "source": [
    "def add_data(b):\n",
    "    new_data = {\n",
    "        \"kota\": kota_dropdown.value,\n",
    "        \"bahanpokok\": bahanpokok_dropdown.value,\n",
    "        \"tahun\": tahun_input.value,\n",
    "        \"bulan\": bulan_input.value,\n",
    "        \"stok\": stok_input.value\n",
    "    }\n",
    "    \n",
    "    global df\n",
    "    df = pd.concat([df, pd.DataFrame([new_data])], ignore_index=True)\n",
    "\n",
    "    \n",
    "    df.to_csv(file, index=False)\n",
    "    \n",
    "    print(\"✅ Data berhasil ditambahkan!\")\n",
    "    display(df.tail())\n",
    "\n",
    "add_button.on_click(add_data)"
   ]
  },
  {
   "cell_type": "code",
   "execution_count": 7,
   "metadata": {},
   "outputs": [
    {
     "data": {
      "application/vnd.jupyter.widget-view+json": {
       "model_id": "14b90a9237dd46e095f9ea936e806680",
       "version_major": 2,
       "version_minor": 0
      },
      "text/plain": [
       "Dropdown(description='Kota:', options=('kab_banjarnegara', 'kab_banyumas', 'kab_batang', 'kab_blora', 'kab_boy…"
      ]
     },
     "metadata": {},
     "output_type": "display_data"
    },
    {
     "data": {
      "application/vnd.jupyter.widget-view+json": {
       "model_id": "52768d85813543b3acf7900ebdcec0dc",
       "version_major": 2,
       "version_minor": 0
      },
      "text/plain": [
       "Dropdown(description='Bahan Pokok:', options=('bawangmerah', 'bawangputih', 'beras', 'cabaibesar', 'cabairawit…"
      ]
     },
     "metadata": {},
     "output_type": "display_data"
    },
    {
     "data": {
      "application/vnd.jupyter.widget-view+json": {
       "model_id": "54adaf2228504274a9e714b20faee69d",
       "version_major": 2,
       "version_minor": 0
      },
      "text/plain": [
       "IntText(value=0, description='Tahun:')"
      ]
     },
     "metadata": {},
     "output_type": "display_data"
    },
    {
     "data": {
      "application/vnd.jupyter.widget-view+json": {
       "model_id": "dde3d22f2d2a4f24a7ce9f7eac22acf7",
       "version_major": 2,
       "version_minor": 0
      },
      "text/plain": [
       "Text(value='', description='Bulan:')"
      ]
     },
     "metadata": {},
     "output_type": "display_data"
    },
    {
     "data": {
      "application/vnd.jupyter.widget-view+json": {
       "model_id": "f5b9c75aaf664f6e8a8a2b56d80a4098",
       "version_major": 2,
       "version_minor": 0
      },
      "text/plain": [
       "IntText(value=0, description='Stok:')"
      ]
     },
     "metadata": {},
     "output_type": "display_data"
    },
    {
     "data": {
      "application/vnd.jupyter.widget-view+json": {
       "model_id": "77d8eec56a974d5b9092613e7150ac0b",
       "version_major": 2,
       "version_minor": 0
      },
      "text/plain": [
       "Button(description='Tambah Data', style=ButtonStyle())"
      ]
     },
     "metadata": {},
     "output_type": "display_data"
    }
   ],
   "source": [
    "display(kota_dropdown, bahanpokok_dropdown, tahun_input, bulan_input, stok_input, add_button)"
   ]
  }
 ],
 "metadata": {
  "kernelspec": {
   "display_name": "Python 3",
   "language": "python",
   "name": "python3"
  },
  "language_info": {
   "codemirror_mode": {
    "name": "ipython",
    "version": 3
   },
   "file_extension": ".py",
   "mimetype": "text/x-python",
   "name": "python",
   "nbconvert_exporter": "python",
   "pygments_lexer": "ipython3",
   "version": "3.10.16"
  }
 },
 "nbformat": 4,
 "nbformat_minor": 2
}
